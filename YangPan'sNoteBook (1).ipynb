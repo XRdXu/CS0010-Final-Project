{
 "cells": [
  {
   "cell_type": "markdown",
   "metadata": {},
   "source": [
    "Import data sets on education level, greening degree and infrastructure quality.\n",
    "Clean up the data and analyze the data for each sub-indicator.\n",
    "The weighted average method was used to calculate the overall indicators for each community.\n",
    "Rank communities according to total metrics.\n",
    "Identify neighborhoods with the highest overall metrics as the best neighborhoods in Pittsburgh.\n",
    "\n"
   ]
  },
  {
   "cell_type": "code",
   "execution_count": 4,
   "metadata": {},
   "outputs": [
    {
     "name": "stdout",
     "output_type": "stream",
     "text": [
      "The best neighborhood in Pittsburgh is: SqruillHill\n"
     ]
    },
    {
     "data": {
      "text/html": [
       "<style type=\"text/css\">\n",
       "#T_07a61_row0_col1 {\n",
       "  background-color: yellow;\n",
       "}\n",
       "</style>\n",
       "<table id=\"T_07a61\">\n",
       "  <thead>\n",
       "    <tr>\n",
       "      <th class=\"blank level0\" >&nbsp;</th>\n",
       "      <th id=\"T_07a61_level0_col0\" class=\"col_heading level0 col0\" >Neighborhood</th>\n",
       "      <th id=\"T_07a61_level0_col1\" class=\"col_heading level0 col1\" >Total_Score</th>\n",
       "    </tr>\n",
       "  </thead>\n",
       "  <tbody>\n",
       "    <tr>\n",
       "      <th id=\"T_07a61_level0_row0\" class=\"row_heading level0 row0\" >0</th>\n",
       "      <td id=\"T_07a61_row0_col0\" class=\"data row0 col0\" >SqruillHill</td>\n",
       "      <td id=\"T_07a61_row0_col1\" class=\"data row0 col1\" >0.80</td>\n",
       "    </tr>\n",
       "    <tr>\n",
       "      <th id=\"T_07a61_level0_row1\" class=\"row_heading level0 row1\" >1</th>\n",
       "      <td id=\"T_07a61_row1_col0\" class=\"data row1 col0\" >SouthSide</td>\n",
       "      <td id=\"T_07a61_row1_col1\" class=\"data row1 col1\" >0.79</td>\n",
       "    </tr>\n",
       "    <tr>\n",
       "      <th id=\"T_07a61_level0_row2\" class=\"row_heading level0 row2\" >2</th>\n",
       "      <td id=\"T_07a61_row2_col0\" class=\"data row2 col0\" >Orkland</td>\n",
       "      <td id=\"T_07a61_row2_col1\" class=\"data row2 col1\" >0.42</td>\n",
       "    </tr>\n",
       "    <tr>\n",
       "      <th id=\"T_07a61_level0_row3\" class=\"row_heading level0 row3\" >3</th>\n",
       "      <td id=\"T_07a61_row3_col0\" class=\"data row3 col0\" >DownTown</td>\n",
       "      <td id=\"T_07a61_row3_col1\" class=\"data row3 col1\" >0.33</td>\n",
       "    </tr>\n",
       "    <tr>\n",
       "      <th id=\"T_07a61_level0_row4\" class=\"row_heading level0 row4\" >4</th>\n",
       "      <td id=\"T_07a61_row4_col0\" class=\"data row4 col0\" >Shadyside</td>\n",
       "      <td id=\"T_07a61_row4_col1\" class=\"data row4 col1\" >0.11</td>\n",
       "    </tr>\n",
       "  </tbody>\n",
       "</table>\n"
      ],
      "text/plain": [
       "<pandas.io.formats.style.Styler at 0x7f1460ff4310>"
      ]
     },
     "metadata": {},
     "output_type": "display_data"
    }
   ],
   "source": [
    "import pandas as pd\n",
    "import numpy as np\n",
    "# create data\n",
    "education_data = pd.DataFrame({\n",
    "    'Neighborhood': ['DownTown', 'Orkland', 'Shadyside', 'SqruillHill', 'SouthSide'],\n",
    "    'Higher_Degree_Count': [150, 90, 120, 200, 170]\n",
    "})\n",
    "\n",
    "greenery_data = pd.DataFrame({\n",
    "    'Neighborhood': ['DownTown', 'Orkland', 'Shadyside', 'SqruillHill', 'SouthSide'],\n",
    "    'Tree_Count': [300, 450, 250, 400, 550]\n",
    "})\n",
    "\n",
    "infrastructure_data = pd.DataFrame({\n",
    "    'Neighborhood': ['DownTown', 'Orkland', 'Shadyside', 'SqruillHill', 'SouthSide'],\n",
    "    'Pothole_Count': [50, 30, 60, 20, 40]\n",
    "})\n",
    "# define function\n",
    "def normalize(df, column):\n",
    "    df[column] = (df[column] - df[column].min()) / (df[column].max() - df[column].min())\n",
    "\n",
    "\n",
    "normalize(education_data, 'Higher_Degree_Count')\n",
    "normalize(greenery_data, 'Tree_Count')\n",
    "normalize(infrastructure_data, 'Pothole_Count')\n",
    "\n",
    "\n",
    "combined_data = education_data.merge(greenery_data, on='Neighborhood').merge(infrastructure_data, on='Neighborhood')\n",
    "# define function\n",
    "def normalize(df, column):\n",
    "    df[column] = (df[column] - df[column].min()) / (df[column].max() - df[column].min())\n",
    "\n",
    "\n",
    "normalize(education_data, 'Higher_Degree_Count')\n",
    "normalize(greenery_data, 'Tree_Count')\n",
    "normalize(infrastructure_data, 'Pothole_Count')\n",
    "\n",
    "\n",
    "combined_data = education_data.merge(greenery_data, on='Neighborhood').merge(infrastructure_data, on='Neighborhood')\n",
    "# set weight\n",
    "education_weight = 0.4\n",
    "greenery_weight = 0.4\n",
    "infrastructure_weight = 0.2\n",
    "\n",
    "# calculate score\n",
    "combined_data['Total_Score'] = (education_weight * combined_data['Higher_Degree_Count'] +\n",
    "                                greenery_weight * combined_data['Tree_Count'] +\n",
    "                                infrastructure_weight * (1 - combined_data['Pothole_Count']))\n",
    "\n",
    "# sort score\n",
    "sorted_data = combined_data.sort_values(by='Total_Score', ascending=False)\n",
    "# best score\n",
    "best_neighborhood = sorted_data.iloc[0]['Neighborhood']\n",
    "print(f\"The best neighborhood in Pittsburgh is: {best_neighborhood}\")\n",
    "\n",
    "import pandas as pd\n",
    "from IPython.display import display\n",
    "\n",
    "# set table\n",
    "def highlight_max(s):\n",
    "    is_max = s == s.max()\n",
    "    return ['background-color: yellow' if v else '' for v in is_max]\n",
    "\n",
    "# show colums\n",
    "columns_to_show = ['Neighborhood', 'Total_Score']\n",
    "\n",
    "# sort by score\n",
    "sorted_data_display = sorted_data[columns_to_show].reset_index(drop=True)\n",
    "\n",
    "# show table\n",
    "styled_table = sorted_data_display.style.apply(highlight_max, subset=['Total_Score']).format({'Total_Score': \"{:.2f}\"})\n",
    "display(styled_table)\n",
    "\n",
    "\n"
   ]
  },
  {
   "cell_type": "code",
   "execution_count": null,
   "metadata": {},
   "outputs": [],
   "source": []
  }
 ],
 "metadata": {
  "kernelspec": {
   "display_name": "Python 3",
   "language": "python",
   "name": "python3"
  },
  "language_info": {
   "codemirror_mode": {
    "name": "ipython",
    "version": 3
   },
   "file_extension": ".py",
   "mimetype": "text/x-python",
   "name": "python",
   "nbconvert_exporter": "python",
   "pygments_lexer": "ipython3",
   "version": "3.8.3"
  }
 },
 "nbformat": 4,
 "nbformat_minor": 4
}

I think the best community is Sqruill Hill
