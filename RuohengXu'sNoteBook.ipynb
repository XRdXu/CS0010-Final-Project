{
 "cells": [
  {
   "attachments": {},
   "cell_type": "markdown",
   "metadata": {},
   "source": [
    "Introduction: The goal of our final project is finding the \"best\" neighborhood in Pittsburgh based on specific metrics and datasets. As a junior, I have done a lot of research and consideration in choosing excellent neighborhood in Pittsburgh for rent. For me, the richness of facilities in a community is a very important consideration. I hope there are enough restaurants, supermarkets, and transportation around where I live to meet my daily needs. In order to form an effective metric, I have considered looking up keywords like restaurants, stores, facilities in a database as my datasets, but I don't think they are comprehensive enough. However, a database called Walkable score caught my attention; based on the definition of what Walkable score is, it is a measure of how easy and convenient it is to walk to various amenities from a particular location, which perfectly matched my primary expectation when renting a house, so I decided to use walkable score as my metric to evaluate a neighborhood. "
   ]
  },
  {
   "attachments": {},
   "cell_type": "markdown",
   "metadata": {},
   "source": [
    "The Metric: We'll be using Allegheny County Walk Scores to measure the walkability of neighborhoods in Pittsburgh. This system uses a patented methodology to rate the ease of accessing amenities from any given address on a scale of 0-100, with higher scores indicating better access.  What special about this datasets is that it not only considers distance and ease of walking, but also considering the friendliness of the people in the neighborhood, making it a comprehensive and well-rounded assessment that aligns perfectly with the metric that I was looking for. And lastly, the datasets that I am using is called: Walk Scores 2014 Data."
   ]
  },
  {
   "attachments": {},
   "cell_type": "markdown",
   "metadata": {},
   "source": [
    "The Best Neighborhood: "
   ]
  },
  {
   "cell_type": "code",
   "execution_count": null,
   "metadata": {},
   "outputs": [
    {
     "ename": "",
     "evalue": "",
     "output_type": "error",
     "traceback": [
      "\u001b[1;31m运行具有“c:\\Users\\xuruo\\AppData\\Local\\Programs\\Python\\Python37\\python.exe”的单元格需要ipykernel包。\n",
      "\u001b[1;31mRun the following command to install 'ipykernel' into the Python environment. \n",
      "\u001b[1;31mCommand: 'c:/Users/xuruo/AppData/Local/Programs/Python/Python37/python.exe -m pip install ipykernel -U --user --force-reinstall'"
     ]
    }
   ],
   "source": [
    "import os\n",
    "import pandas as pd\n",
    "\n",
    "data_path = os.path.join(os.getcwd(), 'datasets', 'walkscorect.xls-walk-score-by-ct.csv')\n",
    "df = pd.read_csv(data_path)"
   ]
  }
 ],
 "metadata": {
  "kernelspec": {
   "display_name": "Python 3",
   "language": "python",
   "name": "python3"
  },
  "language_info": {
   "name": "python",
   "version": "3.7.3"
  },
  "orig_nbformat": 4,
  "vscode": {
   "interpreter": {
    "hash": "3ca5d79255b480f59c269a3ca651cfa4da01342327400736f3eecb84413d5853"
   }
  }
 },
 "nbformat": 4,
 "nbformat_minor": 2
}
