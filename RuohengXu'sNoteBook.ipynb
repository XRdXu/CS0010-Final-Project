{
 "cells": [
  {
   "attachments": {},
   "cell_type": "markdown",
   "metadata": {},
   "source": [
    "Introduction: Our final project was based on specific metrics and data to figure out where the best neighborhoods in Pittsburgh are. As a junior, I have done a lot of research and consideration in choosing excellent neighborhoods in Pittsburgh for rent. For me, the richness of facilities in a community is a very important consideration. I hope there are enough restaurants, supermarkets, and transportation around where I live to meet my daily needs. In order to form an effective metric, I have considered looking up keywords like restaurants, stores, facilities in a database as my datasets, but I don't think they are comprehensive enough. However, a database called Walkable score caught my attention, and I looked it up: Walkability score is a measure of how easy and convenient it is to walk to various amenities, such as restaurants,  shops, parks, schools, and public transportation, from a particular location.  This perfectly matched my primary expectation when renting a house, so I decided to use walkable score as my metric to evaluate a community. make it better without using any fancy words"
   ]
  }
 ],
 "metadata": {
  "kernelspec": {
   "display_name": "Python 3",
   "language": "python",
   "name": "python3"
  },
  "language_info": {
   "name": "python",
   "version": "3.7.3"
  },
  "orig_nbformat": 4,
  "vscode": {
   "interpreter": {
    "hash": "3ca5d79255b480f59c269a3ca651cfa4da01342327400736f3eecb84413d5853"
   }
  }
 },
 "nbformat": 4,
 "nbformat_minor": 2
}
