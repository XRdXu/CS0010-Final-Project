{
 "cells": [
  {
   "cell_type": "markdown",
   "metadata": {},
   "source": [
    "Import data sets on education level, greening degree and infrastructure quality.\n",
    "Clean up the data and analyze the data for each sub-indicator.\n",
    "The weighted average method was used to calculate the overall indicators for each community.\n",
    "Rank communities according to total metrics.\n",
    "Identify neighborhoods with the highest overall metrics as the best neighborhoods in Pittsburgh.\n",
    "\n"
   ]
  },
  {
   "cell_type": "code",
   "execution_count": null,
   "metadata": {},
   "outputs": [],
   "source": [
    "import pandas as pd\n",
    "import numpy as np\n",
    "# 创建虚拟数据集\n",
    "education_data = pd.DataFrame({\n",
    "    'Neighborhood': ['SquirllHill', 'Orkland', 'Shadyside', 'downtwon', 'SouthSide'],\n",
    "    'Higher_Degree_Count': [150, 90, 120, 200, 170]\n",
    "})\n",
    "\n",
    "greenery_data = pd.DataFrame({\n",
    "    'Neighborhood': ['SquirllHill', 'Orkland', 'Shadyside', 'downtwon', 'SouthSide'],\n",
    "    'Tree_Count': [300, 450, 250, 400, 550]\n",
    "})\n",
    "\n",
    "infrastructure_data = pd.DataFrame({\n",
    "    'Neighborhood': ['SquirllHill', 'Orkland', 'Shadyside', 'downtwon', 'SouthSide'],\n",
    "    'Pothole_Count': [50, 30, 60, 20, 40]\n",
    "})\n",
    "# 归一化函数\n",
    "def normalize(df, column):\n",
    "    df[column] = (df[column] - df[column].min()) / (df[column].max() - df[column].min())\n",
    "\n",
    "# 归一化数据\n",
    "normalize(education_data, 'Higher_Degree_Count')\n",
    "normalize(greenery_data, 'Tree_Count')\n",
    "normalize(infrastructure_data, 'Pothole_Count')\n",
    "\n",
    "# 将数据集合并到一个数据框中\n",
    "combined_data = education_data.merge(greenery_data, on='Neighborhood').merge(infrastructure_data, on='Neighborhood')\n",
    "# 归一化函数\n",
    "def normalize(df, column):\n",
    "    df[column] = (df[column] - df[column].min()) / (df[column].max() - df[column].min())\n",
    "\n",
    "# 归一化数据\n",
    "normalize(education_data, 'Higher_Degree_Count')\n",
    "normalize(greenery_data, 'Tree_Count')\n",
    "normalize(infrastructure_data, 'Pothole_Count')\n",
    "\n",
    "# 将数据集合并到一个数据框中\n",
    "combined_data = education_data.merge(greenery_data, on='Neighborhood').merge(infrastructure_data, on='Neighborhood')\n",
    "# 定义权重\n",
    "education_weight = 0.4\n",
    "greenery_weight = 0.4\n",
    "infrastructure_weight = 0.2\n",
    "\n",
    "# 计算总指标\n",
    "combined_data['Total_Score'] = (education_weight * combined_data['Higher_Degree_Count'] +\n",
    "                                greenery_weight * combined_data['Tree_Count'] +\n",
    "                                infrastructure_weight * (1 - combined_data['Pothole_Count']))\n",
    "\n",
    "# 按总指标降序排序\n",
    "sorted_data = combined_data.sort_values(by='Total_Score', ascending=False)\n",
    "# 输出得分最高的社区\n",
    "best_neighborhood = sorted_data.iloc[0]['Neighborhood']\n",
    "print(f\"The best neighborhood in Pittsburgh is: {best_neighborhood}\")\n",
    "\n"
   ]
  }
 ],
 "metadata": {
  "kernelspec": {
   "display_name": "Python 3",
   "language": "python",
   "name": "python3"
  },
  "language_info": {
   "codemirror_mode": {
    "name": "ipython",
    "version": 3
   },
   "file_extension": ".py",
   "mimetype": "text/x-python",
   "name": "python",
   "nbconvert_exporter": "python",
   "pygments_lexer": "ipython3",
   "version": "3.8.3"
  }
 },
 "nbformat": 4,
 "nbformat_minor": 4
}
